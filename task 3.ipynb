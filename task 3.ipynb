{
 "cells": [
  {
   "cell_type": "code",
   "execution_count": 2,
   "id": "a9cc89f4-435b-4db5-a576-c25529a2fd22",
   "metadata": {},
   "outputs": [
    {
     "ename": "IndentationError",
     "evalue": "unexpected indent (2580776734.py, line 51)",
     "output_type": "error",
     "traceback": [
      "\u001b[1;36m  Cell \u001b[1;32mIn[2], line 51\u001b[1;36m\u001b[0m\n\u001b[1;33m    print(\"Invalid task number\")\u001b[0m\n\u001b[1;37m    ^\u001b[0m\n\u001b[1;31mIndentationError\u001b[0m\u001b[1;31m:\u001b[0m unexpected indent\n"
     ]
    }
   ],
   "source": [
    "import random\n",
    "\n",
    "while True:\n",
    "    print(\"\\n\")\n",
    "    print(\"1. Rock\")\n",
    "    print(\"2. Paper\")\n",
    "    print(\"3. Scissors\")\n",
    "    select = int(input(\"Enter throw: \"))\n",
    "\n",
    "    if select == 1:\n",
    "        user_choice = \"Rock\"\n",
    "    elif select == 2:\n",
    "        user_choice = \"Paper\"\n",
    "    elif select == 3:\n",
    "        user_choice = \"Scissors\"\n",
    "    else:\n",
    "        print(\"Invalid choice. Please enter 1, 2, or 3.\")\n",
    "        continue\n",
    "\n",
    "    print(\"\\n\")\n",
    "    print(\"User choice:\", user_choice)\n",
    "\n",
    "    throws = [\"Rock\", \"Paper\", \"Scissors\"]\n",
    "    computer = random.choice(throws)\n",
    "\n",
    "    print(\"Computer choice:\", computer)\n",
    "\n",
    "    if user_choice == computer:\n",
    "        print(\"Tie Game!!\")\n",
    "    elif user_choice == \"Rock\":\n",
    "        if computer == \"Paper\":\n",
    "            print(\"Computer wins!\")\n",
    "        elif computer == \"Scissors\":\n",
    "            print(\"You Win!\")\n",
    "    elif user_choice == \"Paper\":\n",
    "        if computer == \"Scissors\":\n",
    "            print(\"Computer Wins!\")\n",
    "        elif computer == \"Rock\":\n",
    "            print(\"You Win!\")\n",
    "    elif user_choice == \"Scissors\":\n",
    "        if computer == \"Rock\":\n",
    "            print(\"Computer Wins!\")\n",
    "        elif computer == \"Paper\":\n",
    "            print(\"You Win!\")\n",
    "\n",
    "    play_again = input(\"\\nDo you want to play again? (y/n): \").lower()\n",
    "    if play_again != 'y':\n",
    "        print(\"Thanks for playing! Goodbye.\")\n",
    "        break\n",
    "        print(\"Invalid task number\")\n",
    "\n",
    "if __name__ == \"__main__\":\n",
    "    main()\n"
   ]
  },
  {
   "cell_type": "code",
   "execution_count": null,
   "id": "9d461e10-32af-4178-bf29-cfd80989a958",
   "metadata": {},
   "outputs": [],
   "source": []
  }
 ],
 "metadata": {
  "kernelspec": {
   "display_name": "Python 3 (ipykernel)",
   "language": "python",
   "name": "python3"
  },
  "language_info": {
   "codemirror_mode": {
    "name": "ipython",
    "version": 3
   },
   "file_extension": ".py",
   "mimetype": "text/x-python",
   "name": "python",
   "nbconvert_exporter": "python",
   "pygments_lexer": "ipython3",
   "version": "3.12.1"
  }
 },
 "nbformat": 4,
 "nbformat_minor": 5
}

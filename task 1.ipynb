{
 "cells": [
  {
   "cell_type": "code",
   "execution_count": 1,
   "id": "0aca6eaf-09d0-4d0f-a681-bc1f47686784",
   "metadata": {},
   "outputs": [
    {
     "name": "stdout",
     "output_type": "stream",
     "text": [
      "\n",
      "To-Do List\n",
      "1. Add task\n",
      "2. Show task\n",
      "3. Delete task\n",
      "4. Exit\n"
     ]
    },
    {
     "name": "stdin",
     "output_type": "stream",
     "text": [
      "Enter your choice: 2\n"
     ]
    },
    {
     "name": "stdout",
     "output_type": "stream",
     "text": [
      "No tasks\n",
      "\n",
      "To-Do List\n",
      "1. Add task\n",
      "2. Show task\n",
      "3. Delete task\n",
      "4. Exit\n"
     ]
    },
    {
     "name": "stdin",
     "output_type": "stream",
     "text": [
      "Enter your choice: 4\n"
     ]
    },
    {
     "name": "stdout",
     "output_type": "stream",
     "text": [
      "EXIT\n"
     ]
    }
   ],
   "source": [
    "tasks = []\n",
    "\n",
    "def main():\n",
    "    while True:\n",
    "        print(\"\\nTo-Do List\")\n",
    "        print(\"1. Add task\")\n",
    "        print(\"2. Show task\")\n",
    "        print(\"3. Delete task\")\n",
    "        print(\"4. Exit\")\n",
    "\n",
    "        r = input(\"Enter your choice:\")\n",
    "\n",
    "        if r == '1':\n",
    "            add_task()\n",
    "        elif r == '2':\n",
    "            show_task()\n",
    "        elif r == '3':\n",
    "            delete_task()\n",
    "        elif r == '4':\n",
    "            print(\"EXIT\")\n",
    "            break\n",
    "        else:\n",
    "            print(\"INVALID!!!\")\n",
    "\n",
    "def add_task():\n",
    "    task = input(\"Enter a new task:\")\n",
    "    tasks.append(task)\n",
    "    print(\"Task added successfully\")\n",
    "\n",
    "def show_task():\n",
    "    if len(tasks) == 0:\n",
    "        print(\"No tasks\")\n",
    "    else:\n",
    "        print(\"List of tasks:\")\n",
    "        for i, task in enumerate(tasks):\n",
    "            print(f'{i+1}. {task}')\n",
    "\n",
    "def delete_task():\n",
    "    if len(tasks) == 0:\n",
    "        print(\"No tasks to delete\")\n",
    "    else:\n",
    "        print(\"Tasks:\")\n",
    "        for i, task in enumerate(tasks):\n",
    "            print(f'{i+1}. {task}')\n",
    "        choice = int(input(\"Enter the task number to be deleted:\"))\n",
    "\n",
    "        if 0 < choice <= len(tasks):\n",
    "            del tasks[choice-1]\n",
    "            print(\"Task deleted successfully\")\n",
    "        else:\n",
    "            print(\"Invalid task number\")\n",
    "\n",
    "if __name__ == \"__main__\":\n",
    "    main()\n"
   ]
  },
  {
   "cell_type": "code",
   "execution_count": null,
   "id": "5c24bdc4-1e5f-4c5e-8a2f-4d2cd7909159",
   "metadata": {},
   "outputs": [],
   "source": []
  }
 ],
 "metadata": {
  "kernelspec": {
   "display_name": "Python 3 (ipykernel)",
   "language": "python",
   "name": "python3"
  },
  "language_info": {
   "codemirror_mode": {
    "name": "ipython",
    "version": 3
   },
   "file_extension": ".py",
   "mimetype": "text/x-python",
   "name": "python",
   "nbconvert_exporter": "python",
   "pygments_lexer": "ipython3",
   "version": "3.12.1"
  }
 },
 "nbformat": 4,
 "nbformat_minor": 5
}
